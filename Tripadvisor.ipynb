{
 "cells": [
  {
   "cell_type": "code",
   "execution_count": null,
   "metadata": {},
   "outputs": [],
   "source": [
    "import bs4\n",
    "bs4.__version__"
   ]
  },
  {
   "cell_type": "code",
   "execution_count": null,
   "metadata": {},
   "outputs": [],
   "source": [
    "import sys\n",
    "import csv\n",
    "from selenium import webdriver\n",
    "import time\n",
    "import re\n",
    "import requests\n",
    "from bs4 import BeautifulSoup"
   ]
  },
  {
   "cell_type": "code",
   "execution_count": null,
   "metadata": {},
   "outputs": [],
   "source": [
    "# if you pass the inputs in the command line\n",
    "if (len(sys.argv) == 4):\n",
    "    path_to_file = sys.argv[1]\n",
    "    num_page = int(sys.argv[2])\n",
    "    url = sys.argv[3]"
   ]
  },
  {
   "cell_type": "code",
   "execution_count": null,
   "metadata": {
    "scrolled": true
   },
   "outputs": [],
   "source": [
    "path_to_file = \"/home/bil/Documents/Scraping/tripadvisor_2.csv\"\n",
    "num_page = 40\n",
    "url = \"https://www.tripadvisor.com/Restaurant_Review-g1380108-d17713871-Reviews-Gooseberry-Pecatu_Nusa_Dua_Peninsula_Bali.html\"\n",
    "\n",
    "\n",
    "driver = webdriver.Chrome('./chromedriver_linux64/chromedriver')\n",
    "driver.get(url)\n",
    "driver.maximize_window()\n",
    "\n",
    "# Open the file to save the review\n",
    "csvFile = open(path_to_file, 'a', encoding=\"utf-8\")\n",
    "csvWriter = csv.writer(csvFile)\n",
    "\n",
    "# change the value inside the range to save more or less reviews\n",
    "for i in range(0, num_page):\n",
    "    \n",
    "    try:\n",
    "        driver.find_element_by_xpath(\"//span[@class='taLnk ulBlueLinks']\").click()\n",
    "    except:\n",
    "        print(\"there is no read more element\")\n",
    "    \n",
    "#     container = driver.find_elements_by_xpath(\".//div[@class='review-container']\")\n",
    "    page_soup = BeautifulSoup(driver.page_source, 'html.parser')\n",
    "    reviews_container = page_soup.find_all('div', class_='review-container')\n",
    "    time.sleep(20)\n",
    "    \n",
    "    for j in range(len(reviews_container)):\n",
    "        \n",
    "        user = reviews_container[j].find_all('div', class_=\"memberOverlayLink clickable\")\n",
    "        UID = user[0].get('id')\n",
    "        user_name = user[0].find_all('div')[-1].get_text()\n",
    "        count_review = user[1].find_all('span')[-1].get_text()\n",
    "        \n",
    "        re = reviews_container[j].find('div', class_=\"ui_column is-9\")\n",
    "\n",
    "        title = re.find('span', class_='noQuotes').get_text()\n",
    "        date = re.find('span', class_='ratingDate').get('title')\n",
    "        rating = re.find('span', class_='ui_bubble_rating').get('class')[1].split('_')[1]\n",
    "        review = re.find('p', class_='partial_entry').get_text()\n",
    "\n",
    "        csvWriter.writerow([UID, user_name, count_review,date, rating, title, review]) \n",
    "\n",
    "    # change the page\n",
    "    try:\n",
    "        driver.find_element_by_xpath('.//a[@class=\"nav next ui_button primary\"]').click()\n",
    "    except:\n",
    "        driver.close()\n",
    "driver.close()"
   ]
  }
 ],
 "metadata": {
  "kernelspec": {
   "display_name": "Python 3",
   "language": "python",
   "name": "python3"
  },
  "language_info": {
   "codemirror_mode": {
    "name": "ipython",
    "version": 3
   },
   "file_extension": ".py",
   "mimetype": "text/x-python",
   "name": "python",
   "nbconvert_exporter": "python",
   "pygments_lexer": "ipython3",
   "version": "3.6.9"
  }
 },
 "nbformat": 4,
 "nbformat_minor": 2
}
